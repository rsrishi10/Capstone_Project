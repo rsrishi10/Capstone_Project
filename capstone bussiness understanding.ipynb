{
    "cells": [
        {
            "cell_type": "markdown",
            "metadata": {
                "collapsed": true
            },
            "source": "# CAPSTONE #"
        },
        {
            "cell_type": "markdown",
            "metadata": {},
            "source": "### TOPIC :-  Opening a New Shopping Mall in Kuala Lumpur, Malaysia"
        },
        {
            "cell_type": "markdown",
            "metadata": {},
            "source": "                                                       BY :- RISHABH SINGH\n                                                              MARCH 2020"
        },
        {
            "cell_type": "markdown",
            "metadata": {},
            "source": "## Introduction\n\n\nFor many shoppers, visiting shopping malls is a great way to relax and enjoy themselves during\nweekends and holidays. They can do grocery shopping, dine at restaurants, shop at the various\nfashion outlets, watch movies and perform many more activities. Shopping malls are like a one-stop\ndestination for all types of shoppers. For retailers, the central location and the large crowd at the\nshopping malls provides a great distribution channel to market their products and services. Property\ndevelopers are also taking advantage of this trend to build more shopping malls to cater to the\ndemand. As a result, there are many shopping malls in the city of Kuala Lumpur and many more are\nbeing built. Opening shopping malls allows property developers to earn consistent rental income. Of\ncourse, as with any business decision, opening a new shopping mall requires serious consideration\nand is a lot more complicated than it seems. Particularly, the location of the shopping mall is one of\nthe most important decisions that will determine whether the mall will be a success or a failure. \n\n\n"
        },
        {
            "cell_type": "markdown",
            "metadata": {},
            "source": "# Business Problem\nThe objective of this capstone project is to analyse and select the best locations in the city of Kuala\nLumpur, Malaysia to open a new shopping mall. Using data science methodology and machine\nlearning techniques like clustering, this project aims to provide solutions to answer the business\nquestion: In the city of Kuala Lumpur, Malaysia, if a property developer is looking to open a new\nshopping mall, where would you recommend that they open it?"
        },
        {
            "cell_type": "code",
            "execution_count": null,
            "metadata": {},
            "outputs": [],
            "source": ""
        },
        {
            "cell_type": "code",
            "execution_count": null,
            "metadata": {},
            "outputs": [],
            "source": ""
        },
        {
            "cell_type": "code",
            "execution_count": null,
            "metadata": {},
            "outputs": [],
            "source": ""
        }
    ],
    "metadata": {
        "kernelspec": {
            "display_name": "Python 3.6 with Spark",
            "language": "python3",
            "name": "python36"
        },
        "language_info": {
            "codemirror_mode": {
                "name": "ipython",
                "version": 3
            },
            "file_extension": ".py",
            "mimetype": "text/x-python",
            "name": "python",
            "nbconvert_exporter": "python",
            "pygments_lexer": "ipython3",
            "version": "3.6.8"
        }
    },
    "nbformat": 4,
    "nbformat_minor": 1
}