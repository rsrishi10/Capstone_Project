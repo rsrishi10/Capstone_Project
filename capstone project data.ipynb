{
    "cells": [
        {
            "cell_type": "code",
            "execution_count": null,
            "metadata": {
                "collapsed": true
            },
            "outputs": [],
            "source": ""
        }
    ],
    "metadata": {
        "kernelspec": {
            "language": "python",
            "name": "python36"
        }
    },
    "nbformat": 4,
    "nbformat_minor": 0
}